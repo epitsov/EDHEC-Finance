{
 "cells": [
  {
   "cell_type": "markdown",
   "metadata": {},
   "source": [
    "# Downside\n"
   ]
  },
  {
   "cell_type": "code",
   "execution_count": 2,
   "metadata": {},
   "outputs": [],
   "source": [
    "import pandas as pd\n",
    "import edhec_risk_kit as erk\n",
    "%load_ext autoreload\n",
    "%autoreload 2\n",
    "%matplotlib inline"
   ]
  },
  {
   "cell_type": "code",
   "execution_count": 3,
   "metadata": {},
   "outputs": [],
   "source": [
    "hfi=erk.get_hfi_returns()"
   ]
  },
  {
   "cell_type": "markdown",
   "metadata": {},
   "source": [
    "# Semideviation"
   ]
  },
  {
   "cell_type": "code",
   "execution_count": 4,
   "metadata": {},
   "outputs": [
    {
     "data": {
      "text/plain": [
       "Convertible Arbitrage     0.016536\n",
       "CTA Global                0.023290\n",
       "Distressed Securities     0.017009\n",
       "Emerging Markets          0.032476\n",
       "Equity Market Neutral     0.008115\n",
       "Event Driven              0.016712\n",
       "Fixed Income Arbitrage    0.011517\n",
       "Global Macro              0.014694\n",
       "Long/Short Equity         0.019897\n",
       "Merger Arbitrage          0.009600\n",
       "Relative Value            0.011462\n",
       "Short Selling             0.047655\n",
       "Funds Of Funds            0.015536\n",
       "dtype: float64"
      ]
     },
     "execution_count": 4,
     "metadata": {},
     "output_type": "execute_result"
    }
   ],
   "source": [
    "hfi.std(ddof=0)"
   ]
  },
  {
   "cell_type": "code",
   "execution_count": 5,
   "metadata": {},
   "outputs": [
    {
     "data": {
      "text/plain": [
       "Convertible Arbitrage     0.019540\n",
       "CTA Global                0.012443\n",
       "Distressed Securities     0.015185\n",
       "Emerging Markets          0.028039\n",
       "Equity Market Neutral     0.009566\n",
       "Event Driven              0.015429\n",
       "Fixed Income Arbitrage    0.017763\n",
       "Global Macro              0.006579\n",
       "Long/Short Equity         0.014051\n",
       "Merger Arbitrage          0.008875\n",
       "Relative Value            0.012244\n",
       "Short Selling             0.027283\n",
       "Funds Of Funds            0.012122\n",
       "dtype: float64"
      ]
     },
     "execution_count": 5,
     "metadata": {},
     "output_type": "execute_result"
    }
   ],
   "source": [
    "hfi[hfi<0].std(ddof=0)"
   ]
  },
  {
   "cell_type": "code",
   "execution_count": 6,
   "metadata": {},
   "outputs": [],
   "source": [
    "%reload_ext autoreload\n"
   ]
  },
  {
   "cell_type": "code",
   "execution_count": 7,
   "metadata": {},
   "outputs": [
    {
     "data": {
      "text/plain": [
       "Convertible Arbitrage     0.019540\n",
       "CTA Global                0.012443\n",
       "Distressed Securities     0.015185\n",
       "Emerging Markets          0.028039\n",
       "Equity Market Neutral     0.009566\n",
       "Event Driven              0.015429\n",
       "Fixed Income Arbitrage    0.017763\n",
       "Global Macro              0.006579\n",
       "Long/Short Equity         0.014051\n",
       "Merger Arbitrage          0.008875\n",
       "Relative Value            0.012244\n",
       "Short Selling             0.027283\n",
       "Funds Of Funds            0.012122\n",
       "dtype: float64"
      ]
     },
     "execution_count": 7,
     "metadata": {},
     "output_type": "execute_result"
    }
   ],
   "source": [
    "erk.semideviation(hfi)"
   ]
  },
  {
   "cell_type": "markdown",
   "metadata": {},
   "source": [
    "# Value at Risk(VaR)\n",
    "- historic VaR\n",
    "- parametric VaR- Gaussian\n",
    "- Cornish- Fisher VaR"
   ]
  },
  {
   "cell_type": "code",
   "execution_count": 8,
   "metadata": {},
   "outputs": [],
   "source": [
    "import numpy as np"
   ]
  },
  {
   "cell_type": "code",
   "execution_count": 9,
   "metadata": {},
   "outputs": [
    {
     "data": {
      "text/plain": [
       "array([-0.01576, -0.03169, -0.01966, -0.04247, -0.00814, -0.02535,\n",
       "       -0.00787, -0.01499, -0.02598, -0.01047, -0.01174, -0.06783,\n",
       "       -0.02047])"
      ]
     },
     "execution_count": 9,
     "metadata": {},
     "output_type": "execute_result"
    }
   ],
   "source": [
    "np.percentile(hfi,5,axis=0)"
   ]
  },
  {
   "cell_type": "code",
   "execution_count": 10,
   "metadata": {},
   "outputs": [],
   "source": [
    "def var_historic(r,level=5):\n",
    "    \"\"\"\n",
    "    VaR Historic\n",
    "    \"\"\"\n",
    "    if isinstance(r,pd.DataFrame):\n",
    "        return r.aggregate(var_historic,level=level)\n",
    "    elif isinstance(r,pd.Series):\n",
    "        return -np.percentile(r,level)\n",
    "    else:\n",
    "        raise TypeError(\"expect r to be series or DataFrame\")"
   ]
  },
  {
   "cell_type": "code",
   "execution_count": 11,
   "metadata": {},
   "outputs": [
    {
     "data": {
      "text/plain": [
       "Convertible Arbitrage     0.01576\n",
       "CTA Global                0.03169\n",
       "Distressed Securities     0.01966\n",
       "Emerging Markets          0.04247\n",
       "Equity Market Neutral     0.00814\n",
       "Event Driven              0.02535\n",
       "Fixed Income Arbitrage    0.00787\n",
       "Global Macro              0.01499\n",
       "Long/Short Equity         0.02598\n",
       "Merger Arbitrage          0.01047\n",
       "Relative Value            0.01174\n",
       "Short Selling             0.06783\n",
       "Funds Of Funds            0.02047\n",
       "dtype: float64"
      ]
     },
     "execution_count": 11,
     "metadata": {},
     "output_type": "execute_result"
    }
   ],
   "source": [
    "var_historic(hfi)"
   ]
  },
  {
   "cell_type": "code",
   "execution_count": 12,
   "metadata": {},
   "outputs": [],
   "source": [
    "%reload_ext autoreload"
   ]
  },
  {
   "cell_type": "code",
   "execution_count": 13,
   "metadata": {},
   "outputs": [
    {
     "data": {
      "text/plain": [
       "Convertible Arbitrage     0.01576\n",
       "CTA Global                0.03169\n",
       "Distressed Securities     0.01966\n",
       "Emerging Markets          0.04247\n",
       "Equity Market Neutral     0.00814\n",
       "Event Driven              0.02535\n",
       "Fixed Income Arbitrage    0.00787\n",
       "Global Macro              0.01499\n",
       "Long/Short Equity         0.02598\n",
       "Merger Arbitrage          0.01047\n",
       "Relative Value            0.01174\n",
       "Short Selling             0.06783\n",
       "Funds Of Funds            0.02047\n",
       "dtype: float64"
      ]
     },
     "execution_count": 13,
     "metadata": {},
     "output_type": "execute_result"
    }
   ],
   "source": [
    "erk.var_historic(hfi)"
   ]
  },
  {
   "cell_type": "code",
   "execution_count": 14,
   "metadata": {},
   "outputs": [],
   "source": [
    "from scipy.stats import norm"
   ]
  },
  {
   "cell_type": "code",
   "execution_count": 15,
   "metadata": {},
   "outputs": [],
   "source": [
    "z=norm.ppf(0.05)"
   ]
  },
  {
   "cell_type": "code",
   "execution_count": 16,
   "metadata": {},
   "outputs": [
    {
     "data": {
      "text/plain": [
       "Convertible Arbitrage     0.021691\n",
       "CTA Global                0.034235\n",
       "Distressed Securities     0.021032\n",
       "Emerging Markets          0.047164\n",
       "Equity Market Neutral     0.008850\n",
       "Event Driven              0.021144\n",
       "Fixed Income Arbitrage    0.014579\n",
       "Global Macro              0.018766\n",
       "Long/Short Equity         0.026397\n",
       "Merger Arbitrage          0.010435\n",
       "Relative Value            0.013061\n",
       "Short Selling             0.080086\n",
       "Funds Of Funds            0.021292\n",
       "dtype: float64"
      ]
     },
     "execution_count": 16,
     "metadata": {},
     "output_type": "execute_result"
    }
   ],
   "source": [
    "-(hfi.mean()+z*hfi.std(ddof=0))"
   ]
  },
  {
   "cell_type": "code",
   "execution_count": 17,
   "metadata": {},
   "outputs": [],
   "source": [
    "%reload_ext autoreload"
   ]
  },
  {
   "cell_type": "code",
   "execution_count": 18,
   "metadata": {},
   "outputs": [
    {
     "data": {
      "text/plain": [
       "Convertible Arbitrage     0.021691\n",
       "CTA Global                0.034235\n",
       "Distressed Securities     0.021032\n",
       "Emerging Markets          0.047164\n",
       "Equity Market Neutral     0.008850\n",
       "Event Driven              0.021144\n",
       "Fixed Income Arbitrage    0.014579\n",
       "Global Macro              0.018766\n",
       "Long/Short Equity         0.026397\n",
       "Merger Arbitrage          0.010435\n",
       "Relative Value            0.013061\n",
       "Short Selling             0.080086\n",
       "Funds Of Funds            0.021292\n",
       "dtype: float64"
      ]
     },
     "execution_count": 18,
     "metadata": {},
     "output_type": "execute_result"
    }
   ],
   "source": [
    "erk.var_gaussian(hfi)"
   ]
  },
  {
   "cell_type": "code",
   "execution_count": 66,
   "metadata": {},
   "outputs": [
    {
     "data": {
      "text/plain": [
       "<matplotlib.axes._subplots.AxesSubplot at 0x19a5b4a5688>"
      ]
     },
     "execution_count": 66,
     "metadata": {},
     "output_type": "execute_result"
    },
    {
     "data": {
      "image/png": "[encoded data removed]",
      "text/plain": [
       "<Figure size 432x288 with 1 Axes>"
      ]
     },
     "metadata": {
      "needs_background": "light"
     },
     "output_type": "display_data"
    }
   ],
   "source": [
    "var_list=[erk.var_gaussian(hfi),erk.var_gaussian(hfi,modified=True),erk.var_historic(hfi)]\n",
    "comparison=pd.concat(var_list,axis=1)\n",
    "comparison.columns=[\"Gaussian\",\"Garnish-Fisher\",\"Historic\"]\n",
    "comparison.plot.bar(title=\"EDHEC Hedhe Fund Indices:VaR\")"
   ]
  },
  {
   "cell_type": "markdown",
   "metadata": {},
   "source": [
    "### BeyondVar aka CVaR"
   ]
  },
  {
   "cell_type": "code",
   "execution_count": 67,
   "metadata": {},
   "outputs": [],
   "source": [
    "%reload_ext autoreload"
   ]
  },
  {
   "cell_type": "code",
   "execution_count": 70,
   "metadata": {},
   "outputs": [
    {
     "data": {
      "text/plain": [
       "Convertible Arbitrage     0.036550\n",
       "CTA Global                0.041264\n",
       "Distressed Securities     0.036429\n",
       "Emerging Markets          0.072364\n",
       "Equity Market Neutral     0.016879\n",
       "Event Driven              0.038336\n",
       "Fixed Income Arbitrage    0.028257\n",
       "Global Macro              0.020629\n",
       "Long/Short Equity         0.041943\n",
       "Merger Arbitrage          0.019143\n",
       "Relative Value            0.024650\n",
       "Short Selling             0.096821\n",
       "Funds Of Funds            0.033207\n",
       "dtype: float64"
      ]
     },
     "execution_count": 70,
     "metadata": {},
     "output_type": "execute_result"
    }
   ],
   "source": [
    "erk.cvar_historic(hfi)"
   ]
  },
  {
   "cell_type": "markdown",
   "metadata": {},
   "source": [
    "# explaination if the worst happens we expect this avarage loss\n"
   ]
  },
  {
   "cell_type": "code",
   "execution_count": null,
   "metadata": {},
   "outputs": [],
   "source": []
  }
 ],
 "metadata": {
  "kernelspec": {
   "display_name": "Python 3",
   "language": "python",
   "name": "python3"
  },
  "language_info": {
   "codemirror_mode": {
    "name": "ipython",
    "version": 3
   },
   "file_extension": ".py",
   "mimetype": "text/x-python",
   "name": "python",
   "nbconvert_exporter": "python",
   "pygments_lexer": "ipython3",
   "version": "3.7.4"
  }
 },
 "nbformat": 4,
 "nbformat_minor": 4
}
